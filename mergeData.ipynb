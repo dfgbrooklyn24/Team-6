{
 "cells": [
  {
   "cell_type": "code",
   "execution_count": 1,
   "id": "a7ef799e-f2c8-4799-8efb-7f813bc17f85",
   "metadata": {
    "tags": []
   },
   "outputs": [],
   "source": [
    "import pandas as pd"
   ]
  },
  {
   "cell_type": "code",
   "execution_count": 2,
   "id": "9ce73286-76db-4b4d-9d57-1e753ab55c50",
   "metadata": {
    "tags": []
   },
   "outputs": [],
   "source": [
    "demographics = pd.read_csv(\"Demographics.csv\")"
   ]
  },
  {
   "cell_type": "code",
   "execution_count": 3,
   "id": "4dcd763f-4981-446c-8303-a95a7e620d6e",
   "metadata": {
    "tags": []
   },
   "outputs": [
    {
     "data": {
      "text/html": [
       "<div>\n",
       "<style scoped>\n",
       "    .dataframe tbody tr th:only-of-type {\n",
       "        vertical-align: middle;\n",
       "    }\n",
       "\n",
       "    .dataframe tbody tr th {\n",
       "        vertical-align: top;\n",
       "    }\n",
       "\n",
       "    .dataframe thead th {\n",
       "        text-align: right;\n",
       "    }\n",
       "</style>\n",
       "<table border=\"1\" class=\"dataframe\">\n",
       "  <thead>\n",
       "    <tr style=\"text-align: right;\">\n",
       "      <th></th>\n",
       "      <th>Percent households with children under 18 years receiving food stamps</th>\n",
       "      <th>Percent households with one or more people with a disability receiving food stamps</th>\n",
       "      <th>Percent households with only black/american receiving food stamps</th>\n",
       "      <th>Percent households with only asians receiving food stamps</th>\n",
       "      <th>Percent households with only hispanic/latinos receiving food stamps</th>\n",
       "      <th>zip</th>\n",
       "      <th>Educational</th>\n",
       "      <th>Religious</th>\n",
       "      <th>RES_RATIO</th>\n",
       "      <th>BUS_RATIO</th>\n",
       "      <th>OTH_RATIO</th>\n",
       "    </tr>\n",
       "  </thead>\n",
       "  <tbody>\n",
       "    <tr>\n",
       "      <th>0</th>\n",
       "      <td>0.000</td>\n",
       "      <td>40.490000</td>\n",
       "      <td>14.230000</td>\n",
       "      <td>15.600000</td>\n",
       "      <td>10.570000</td>\n",
       "      <td>19102</td>\n",
       "      <td>20.0</td>\n",
       "      <td>79.0</td>\n",
       "      <td>0.100000</td>\n",
       "      <td>0.100000</td>\n",
       "      <td>0.100000</td>\n",
       "    </tr>\n",
       "    <tr>\n",
       "      <th>1</th>\n",
       "      <td>0.000</td>\n",
       "      <td>34.850000</td>\n",
       "      <td>9.028571</td>\n",
       "      <td>12.835714</td>\n",
       "      <td>15.371429</td>\n",
       "      <td>19103</td>\n",
       "      <td>45.0</td>\n",
       "      <td>158.0</td>\n",
       "      <td>0.071429</td>\n",
       "      <td>0.071429</td>\n",
       "      <td>0.071429</td>\n",
       "    </tr>\n",
       "    <tr>\n",
       "      <th>2</th>\n",
       "      <td>0.165</td>\n",
       "      <td>56.020000</td>\n",
       "      <td>59.110000</td>\n",
       "      <td>2.055000</td>\n",
       "      <td>8.175000</td>\n",
       "      <td>19104</td>\n",
       "      <td>32.0</td>\n",
       "      <td>86.0</td>\n",
       "      <td>0.041667</td>\n",
       "      <td>0.041667</td>\n",
       "      <td>0.041667</td>\n",
       "    </tr>\n",
       "    <tr>\n",
       "      <th>3</th>\n",
       "      <td>0.000</td>\n",
       "      <td>43.555556</td>\n",
       "      <td>23.388889</td>\n",
       "      <td>20.500000</td>\n",
       "      <td>11.111111</td>\n",
       "      <td>19106</td>\n",
       "      <td>13.0</td>\n",
       "      <td>60.0</td>\n",
       "      <td>0.090909</td>\n",
       "      <td>0.090909</td>\n",
       "      <td>0.090909</td>\n",
       "    </tr>\n",
       "    <tr>\n",
       "      <th>4</th>\n",
       "      <td>0.000</td>\n",
       "      <td>53.675000</td>\n",
       "      <td>29.062500</td>\n",
       "      <td>24.937500</td>\n",
       "      <td>13.100000</td>\n",
       "      <td>19107</td>\n",
       "      <td>21.0</td>\n",
       "      <td>70.0</td>\n",
       "      <td>0.125000</td>\n",
       "      <td>0.125000</td>\n",
       "      <td>0.125000</td>\n",
       "    </tr>\n",
       "  </tbody>\n",
       "</table>\n",
       "</div>"
      ],
      "text/plain": [
       "   Percent households with children under 18 years receiving food stamps  \\\n",
       "0                                              0.000                       \n",
       "1                                              0.000                       \n",
       "2                                              0.165                       \n",
       "3                                              0.000                       \n",
       "4                                              0.000                       \n",
       "\n",
       "   Percent households with one or more people with a disability receiving food stamps  \\\n",
       "0                                          40.490000                                    \n",
       "1                                          34.850000                                    \n",
       "2                                          56.020000                                    \n",
       "3                                          43.555556                                    \n",
       "4                                          53.675000                                    \n",
       "\n",
       "   Percent households with only black/american receiving food stamps  \\\n",
       "0                                          14.230000                   \n",
       "1                                           9.028571                   \n",
       "2                                          59.110000                   \n",
       "3                                          23.388889                   \n",
       "4                                          29.062500                   \n",
       "\n",
       "   Percent households with only asians receiving food stamps  \\\n",
       "0                                          15.600000           \n",
       "1                                          12.835714           \n",
       "2                                           2.055000           \n",
       "3                                          20.500000           \n",
       "4                                          24.937500           \n",
       "\n",
       "   Percent households with only hispanic/latinos receiving food stamps    zip  \\\n",
       "0                                          10.570000                    19102   \n",
       "1                                          15.371429                    19103   \n",
       "2                                           8.175000                    19104   \n",
       "3                                          11.111111                    19106   \n",
       "4                                          13.100000                    19107   \n",
       "\n",
       "   Educational  Religious  RES_RATIO  BUS_RATIO  OTH_RATIO  \n",
       "0         20.0       79.0   0.100000   0.100000   0.100000  \n",
       "1         45.0      158.0   0.071429   0.071429   0.071429  \n",
       "2         32.0       86.0   0.041667   0.041667   0.041667  \n",
       "3         13.0       60.0   0.090909   0.090909   0.090909  \n",
       "4         21.0       70.0   0.125000   0.125000   0.125000  "
      ]
     },
     "execution_count": 3,
     "metadata": {},
     "output_type": "execute_result"
    }
   ],
   "source": [
    "demographics.head()"
   ]
  },
  {
   "cell_type": "code",
   "execution_count": 4,
   "id": "77c55b67-b869-46bc-b660-d752d050bfb3",
   "metadata": {
    "tags": []
   },
   "outputs": [],
   "source": [
    "constraints = pd.read_csv(\"zip_feature.csv\")"
   ]
  },
  {
   "cell_type": "code",
   "execution_count": 5,
   "id": "7fe7e98b-6153-435d-ba37-b0cbe299fff3",
   "metadata": {
    "tags": []
   },
   "outputs": [],
   "source": [
    "demographics = demographics.rename(columns={'zip': 'Zip Code'})"
   ]
  },
  {
   "cell_type": "code",
   "execution_count": 6,
   "id": "f87f65b2-2a37-4d84-a3d9-7f3f8754ac48",
   "metadata": {
    "tags": []
   },
   "outputs": [],
   "source": [
    "merged_df = pd.merge(demographics, constraints, on = 'Zip Code', how='left')"
   ]
  },
  {
   "cell_type": "code",
   "execution_count": 7,
   "id": "773017b7-9400-40c3-bd89-94d6a730a894",
   "metadata": {
    "tags": []
   },
   "outputs": [
    {
     "name": "stdout",
     "output_type": "stream",
     "text": [
      "49\n"
     ]
    }
   ],
   "source": [
    "print(len(merged_df))"
   ]
  },
  {
   "cell_type": "code",
   "execution_count": 9,
   "id": "9592c0ef-0a71-4162-9824-26ecae0b490d",
   "metadata": {
    "tags": []
   },
   "outputs": [],
   "source": [
    "merged_df.to_csv(\"Full Demographics.csv\")"
   ]
  },
  {
   "cell_type": "code",
   "execution_count": 10,
   "id": "5de630ba-6511-4ea7-bd27-104e1e3b4051",
   "metadata": {
    "tags": []
   },
   "outputs": [],
   "source": [
    "food_insecurity = pd.read_csv(\"Food_Insecurity.csv\")"
   ]
  },
  {
   "cell_type": "code",
   "execution_count": 11,
   "id": "20dfab40-ac5b-44cb-8dd4-f2408655d620",
   "metadata": {
    "tags": []
   },
   "outputs": [],
   "source": [
    "food_insecurity = food_insecurity.rename(columns={'zip': 'Zip Code'})"
   ]
  },
  {
   "cell_type": "code",
   "execution_count": 12,
   "id": "5fc2ae1a-01ef-46ad-bfc4-6d5e9abdf190",
   "metadata": {
    "tags": []
   },
   "outputs": [],
   "source": [
    "merged_df = pd.merge(food_insecurity, constraints, on = 'Zip Code', how='left')"
   ]
  },
  {
   "cell_type": "code",
   "execution_count": 13,
   "id": "a8d41714-d311-4ca3-8c3c-6d8c93485075",
   "metadata": {
    "tags": []
   },
   "outputs": [],
   "source": [
    "merged_df.to_csv(\"Food_Insecurity_Full.csv\")\n"
   ]
  },
  {
   "cell_type": "code",
   "execution_count": 15,
   "id": "f256bca0-6583-42c7-9850-38827ef9fefd",
   "metadata": {
    "tags": []
   },
   "outputs": [
    {
     "data": {
      "text/plain": [
       "Index(['One or More People in the Household over 60 receiving Food Stamps',\n",
       "       'Percent male householder, no spouse present (SNAP)',\n",
       "       'Percent female householder, no spouse present (SNAP)',\n",
       "       'Percent households with no working member receiving food stamps',\n",
       "       'Percent households with only one working member receiving food stamps',\n",
       "       'Percent households with two or more working members receiving food stamps',\n",
       "       'Zip Code', 'Educational', 'Religious', 'RES_RATIO', 'BUS_RATIO',\n",
       "       'OTH_RATIO', 'distance_from_19140_km', 'distance_from_19140_miles',\n",
       "       'Average ADA for 3 years'],\n",
       "      dtype='object')"
      ]
     },
     "execution_count": 15,
     "metadata": {},
     "output_type": "execute_result"
    }
   ],
   "source": [
    "merged_df.columns"
   ]
  },
  {
   "cell_type": "code",
   "execution_count": 16,
   "id": "59df7458-33c4-4412-be7a-d36b3ca80da5",
   "metadata": {
    "tags": []
   },
   "outputs": [],
   "source": [
    "merged_df[['Zip Code', 'Educational', 'Religious', 'RES_RATIO', 'BUS_RATIO',\n",
    "       'OTH_RATIO', 'distance_from_19140_km', 'distance_from_19140_miles',\n",
    "       'Average ADA for 3 years']].to_csv(\"constraints.csv\")"
   ]
  },
  {
   "cell_type": "code",
   "execution_count": null,
   "id": "1e10d25f-c9d7-41c0-9f91-4a0e298901a8",
   "metadata": {},
   "outputs": [],
   "source": []
  }
 ],
 "metadata": {
  "kernelspec": {
   "display_name": "Python 3 (ipykernel)",
   "language": "python",
   "name": "python3"
  },
  "language_info": {
   "codemirror_mode": {
    "name": "ipython",
    "version": 3
   },
   "file_extension": ".py",
   "mimetype": "text/x-python",
   "name": "python",
   "nbconvert_exporter": "python",
   "pygments_lexer": "ipython3",
   "version": "3.10.10"
  }
 },
 "nbformat": 4,
 "nbformat_minor": 5
}
