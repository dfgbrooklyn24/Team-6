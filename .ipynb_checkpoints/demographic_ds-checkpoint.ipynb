{
 "cells": [
  {
   "cell_type": "code",
   "execution_count": 243,
   "id": "005218fc-7149-4dbe-b9df-b4976a478e10",
   "metadata": {
    "tags": []
   },
   "outputs": [],
   "source": [
    "import pandas as pd"
   ]
  },
  {
   "cell_type": "code",
   "execution_count": 244,
   "id": "6e2cf0e9-e7c6-4c01-9556-c37e931470b1",
   "metadata": {
    "tags": []
   },
   "outputs": [],
   "source": [
    "data = pd.read_csv(\"../shared_data_read_only/Census-Data/ACSST5Y2022.S2201-Data.csv\", low_memory = False)"
   ]
  },
  {
   "cell_type": "code",
   "execution_count": 245,
   "id": "b50dce03-6961-4fb8-864e-b552c9378788",
   "metadata": {
    "tags": []
   },
   "outputs": [],
   "source": [
    "columns_to_drop = [column for column in data.columns if column.endswith('M')]\n",
    "data = data.drop(columns = columns_to_drop)"
   ]
  },
  {
   "cell_type": "code",
   "execution_count": null,
   "id": "6757ae44-f4da-4014-b981-577316a94e6d",
   "metadata": {},
   "outputs": [],
   "source": []
  },
  {
   "cell_type": "code",
   "execution_count": 246,
   "id": "2a58bea5-d5dc-4b87-86a4-3ada09d8e308",
   "metadata": {
    "tags": []
   },
   "outputs": [],
   "source": [
    "number_cols = [column for column in data.columns if (\"C05\" in column or \"C01\" in column or \"C03\" in column)]\n",
    "data = data.drop(columns = number_cols)\n",
    "\n",
    "data = data[data['NAME'].str.contains('Pennsylvania', na=False)]\n",
    "\n",
    "for column in data.columns:\n",
    "    if column not in ['NAME', 'GEO_ID']:\n",
    "        data[column] = pd.to_numeric(data[column], errors='coerce')"
   ]
  },
  {
   "cell_type": "code",
   "execution_count": 247,
   "id": "86d9fa85-e892-4eb1-9e89-e91ca9f6a4e2",
   "metadata": {
    "tags": []
   },
   "outputs": [],
   "source": [
    "zip_data = pd.read_csv(\"../shared_data_read_only/Geography-Mapping/ZIP_TRACT_122023.csv\", low_memory = False)"
   ]
  },
  {
   "cell_type": "code",
   "execution_count": 248,
   "id": "a73b76d2-b754-41d2-8bd5-02425f664440",
   "metadata": {},
   "outputs": [
    {
     "name": "stdout",
     "output_type": "stream",
     "text": [
      "3446\n"
     ]
    },
    {
     "name": "stderr",
     "output_type": "stream",
     "text": [
      "/tmp/ipykernel_30081/3646332175.py:1: PerformanceWarning: DataFrame is highly fragmented.  This is usually the result of calling `frame.insert` many times, which has poor performance.  Consider joining all columns at once using pd.concat(axis=1) instead. To get a de-fragmented frame, use `newframe = frame.copy()`\n",
      "  data['TRACT'] = data['GEO_ID'].str.replace('1400000US', '').astype(int)\n"
     ]
    }
   ],
   "source": [
    "data['TRACT'] = data['GEO_ID'].str.replace('1400000US', '').astype(int)\n",
    "print(len(data))"
   ]
  },
  {
   "cell_type": "code",
   "execution_count": 249,
   "id": "04f8a5ff-38f3-4fbc-a995-c6ac7e5e88e6",
   "metadata": {
    "tags": []
   },
   "outputs": [],
   "source": [
    "\n",
    "philly_zipcodes = [\n",
    "    19102, 19103, 19104, 19106, 19107, 19109, 19111, 19112,\n",
    "    19113, 19114, 19115, 19116, 19118, 19119, 19120, 19121,\n",
    "    19122, 19123, 19124, 19125, 19126, 19127, 19128, 19129,\n",
    "    19130, 19131, 19132, 19133, 19134, 19135, 19136, 19137,\n",
    "    19138, 19139, 19140, 19141, 19142, 19143, 19144, 19145,\n",
    "    19146, 19147, 19148, 19149, 19150, 19151, 19152, 19153,\n",
    "    19154\n",
    "]\n",
    "\n",
    "merged_df = pd.merge(data, zip_data, on=\"TRACT\", how = 'left')"
   ]
  },
  {
   "cell_type": "code",
   "execution_count": 250,
   "id": "85063916-d95f-483f-987a-f692ac4dc91e",
   "metadata": {
    "tags": []
   },
   "outputs": [
    {
     "name": "stdout",
     "output_type": "stream",
     "text": [
      "Index(['GEO_ID', 'NAME', 'S2201_C02_001E', 'S2201_C02_002E', 'S2201_C02_003E',\n",
      "       'S2201_C02_004E', 'S2201_C02_005E', 'S2201_C02_006E', 'S2201_C02_007E',\n",
      "       'S2201_C02_008E',\n",
      "       ...\n",
      "       'S2201_C06_038E', 'Unnamed: 458', 'TRACT', 'ZIP', 'USPS_ZIP_PREF_CITY',\n",
      "       'USPS_ZIP_PREF_STATE', 'RES_RATIO', 'BUS_RATIO', 'OTH_RATIO',\n",
      "       'TOT_RATIO'],\n",
      "      dtype='object', length=125)\n",
      "Index(['ZIP', 'TRACT', 'USPS_ZIP_PREF_CITY', 'USPS_ZIP_PREF_STATE',\n",
      "       'RES_RATIO', 'BUS_RATIO', 'OTH_RATIO', 'TOT_RATIO'],\n",
      "      dtype='object')\n"
     ]
    }
   ],
   "source": [
    "print(merged_df.columns)\n",
    "print(zip_data.columns)\n"
   ]
  },
  {
   "cell_type": "code",
   "execution_count": 251,
   "id": "3909650b-b925-4350-8ab1-2f3ab9987bbd",
   "metadata": {
    "tags": []
   },
   "outputs": [],
   "source": [
    "merged_df = merged_df.drop(columns=['TRACT', 'USPS_ZIP_PREF_CITY', 'USPS_ZIP_PREF_STATE', 'TOT_RATIO', 'NAME', 'GEO_ID'])"
   ]
  },
  {
   "cell_type": "code",
   "execution_count": 252,
   "id": "0f12a8ea-ef16-4004-ba1b-305b3d8f5a8a",
   "metadata": {
    "tags": []
   },
   "outputs": [],
   "source": [
    "result = merged_df.groupby('ZIP').mean().reset_index()"
   ]
  },
  {
   "cell_type": "code",
   "execution_count": 253,
   "id": "64a1b8d0-ae67-4eda-872a-44a5b7f634ea",
   "metadata": {
    "tags": []
   },
   "outputs": [
    {
     "name": "stdout",
     "output_type": "stream",
     "text": [
      "2053\n"
     ]
    }
   ],
   "source": [
    "print(len(result))"
   ]
  },
  {
   "cell_type": "code",
   "execution_count": 254,
   "id": "25d74dc5-bb04-4be1-b3d8-35bbbe0e6428",
   "metadata": {
    "tags": []
   },
   "outputs": [],
   "source": [
    "result['ZIP'].value_counts()\n",
    "result = result[result['ZIP'].isin(philly_zipcodes)]"
   ]
  },
  {
   "cell_type": "code",
   "execution_count": 255,
   "id": "5e3f56a5-be14-4adb-a8f2-fe61de099dce",
   "metadata": {
    "tags": []
   },
   "outputs": [
    {
     "name": "stdout",
     "output_type": "stream",
     "text": [
      "49\n"
     ]
    }
   ],
   "source": [
    "print(len(result))"
   ]
  },
  {
   "cell_type": "code",
   "execution_count": 256,
   "id": "a01a153e-af8c-4566-9761-4831c5a85a26",
   "metadata": {
    "tags": []
   },
   "outputs": [],
   "source": [
    "nonProfitdata = pd.read_csv(\"../shared_data_read_only/Census-Data/Nonprofit_Data_PA.csv\", low_memory = False)"
   ]
  },
  {
   "cell_type": "code",
   "execution_count": 257,
   "id": "52f9941c-64de-449c-99bd-ede82f54c9f0",
   "metadata": {
    "tags": []
   },
   "outputs": [],
   "source": [
    "result.rename(columns={\n",
    "    'ZIP': 'zip',\n",
    "}, inplace=True)\n",
    "\n",
    "\n",
    "merged_df = pd.merge(result, nonProfitdata, on = 'zip', how = 'left')"
   ]
  },
  {
   "cell_type": "code",
   "execution_count": 258,
   "id": "1a56c52b-15f7-4ae6-bb04-2b16114210ef",
   "metadata": {
    "tags": []
   },
   "outputs": [
    {
     "name": "stdout",
     "output_type": "stream",
     "text": [
      "94\n"
     ]
    }
   ],
   "source": [
    "print(len(merged_df))"
   ]
  },
  {
   "cell_type": "code",
   "execution_count": 259,
   "id": "48b8099d-034f-4676-87ce-c98acd4a62f5",
   "metadata": {
    "tags": []
   },
   "outputs": [
    {
     "name": "stdout",
     "output_type": "stream",
     "text": [
      "zip\n",
      "19102.0    2\n",
      "19103.0    2\n",
      "19104.0    2\n",
      "19106.0    2\n",
      "19107.0    2\n",
      "19111.0    2\n",
      "19112.0    2\n",
      "19115.0    2\n",
      "19114.0    2\n",
      "19119.0    2\n",
      "19120.0    2\n",
      "19116.0    2\n",
      "19118.0    2\n",
      "19121.0    2\n",
      "19122.0    2\n",
      "19124.0    2\n",
      "19123.0    2\n",
      "19139.0    2\n",
      "19140.0    2\n",
      "19125.0    2\n",
      "19126.0    2\n",
      "19127.0    2\n",
      "19128.0    2\n",
      "19129.0    2\n",
      "19130.0    2\n",
      "19131.0    2\n",
      "19132.0    2\n",
      "19133.0    2\n",
      "19134.0    2\n",
      "19135.0    2\n",
      "19136.0    2\n",
      "19137.0    2\n",
      "19138.0    2\n",
      "19151.0    2\n",
      "19148.0    2\n",
      "19142.0    2\n",
      "19143.0    2\n",
      "19145.0    2\n",
      "19144.0    2\n",
      "19146.0    2\n",
      "19147.0    2\n",
      "19154.0    2\n",
      "19152.0    2\n",
      "19149.0    2\n",
      "19150.0    2\n",
      "19109.0    1\n",
      "19113.0    1\n",
      "19141.0    1\n",
      "19153.0    1\n",
      "Name: count, dtype: int64\n"
     ]
    }
   ],
   "source": [
    "print(merged_df['zip'].value_counts())"
   ]
  },
  {
   "cell_type": "code",
   "execution_count": 260,
   "id": "443d2c9f-70a6-4550-911b-413bb84b63d6",
   "metadata": {
    "tags": []
   },
   "outputs": [],
   "source": [
    "merged_df.dropna(subset=['zip'], inplace=True)"
   ]
  },
  {
   "cell_type": "code",
   "execution_count": 261,
   "id": "1d5a26a6-0ddb-4a5d-97df-f1a89c7f89a5",
   "metadata": {
    "tags": []
   },
   "outputs": [],
   "source": [
    "merged_df['zip'] = merged_df['zip'].astype(int)"
   ]
  },
  {
   "cell_type": "code",
   "execution_count": 262,
   "id": "0cd65299-b413-402f-8bd7-16636e588c76",
   "metadata": {
    "tags": []
   },
   "outputs": [],
   "source": [
    "merged_df = merged_df[merged_df[\"zip\"].isin(philly_zipcodes)]"
   ]
  },
  {
   "cell_type": "code",
   "execution_count": 263,
   "id": "12661193-986f-48ae-a0a6-9d7afe0b7ee8",
   "metadata": {
    "tags": []
   },
   "outputs": [
    {
     "name": "stdout",
     "output_type": "stream",
     "text": [
      "94\n"
     ]
    }
   ],
   "source": [
    "print(len(merged_df))"
   ]
  },
  {
   "cell_type": "code",
   "execution_count": 264,
   "id": "35aa247a-27c7-4ae1-85be-9e802888c1d9",
   "metadata": {
    "tags": []
   },
   "outputs": [
    {
     "data": {
      "text/plain": [
       "zip\n",
       "19102    2\n",
       "19103    2\n",
       "19104    2\n",
       "19106    2\n",
       "19107    2\n",
       "19111    2\n",
       "19112    2\n",
       "19115    2\n",
       "19114    2\n",
       "19119    2\n",
       "19120    2\n",
       "19116    2\n",
       "19118    2\n",
       "19121    2\n",
       "19122    2\n",
       "19124    2\n",
       "19123    2\n",
       "19139    2\n",
       "19140    2\n",
       "19125    2\n",
       "19126    2\n",
       "19127    2\n",
       "19128    2\n",
       "19129    2\n",
       "19130    2\n",
       "19131    2\n",
       "19132    2\n",
       "19133    2\n",
       "19134    2\n",
       "19135    2\n",
       "19136    2\n",
       "19137    2\n",
       "19138    2\n",
       "19151    2\n",
       "19148    2\n",
       "19142    2\n",
       "19143    2\n",
       "19145    2\n",
       "19144    2\n",
       "19146    2\n",
       "19147    2\n",
       "19154    2\n",
       "19152    2\n",
       "19149    2\n",
       "19150    2\n",
       "19109    1\n",
       "19113    1\n",
       "19141    1\n",
       "19153    1\n",
       "Name: count, dtype: int64"
      ]
     },
     "execution_count": 264,
     "metadata": {},
     "output_type": "execute_result"
    }
   ],
   "source": [
    "merged_df['zip'].value_counts()"
   ]
  },
  {
   "cell_type": "code",
   "execution_count": 265,
   "id": "c7816697-ee74-4dbd-8e97-e1357e3cd82a",
   "metadata": {
    "tags": []
   },
   "outputs": [
    {
     "name": "stdout",
     "output_type": "stream",
     "text": [
      "     zip  S2201_C02_001E  S2201_C02_002E  S2201_C02_003E  S2201_C02_004E  \\\n",
      "0  19102             NaN       22.510000       77.490000       20.310000   \n",
      "1  19102             NaN       22.510000       77.490000       20.310000   \n",
      "2  19103             NaN       26.171429       73.828571       23.221429   \n",
      "3  19103             NaN       26.171429       73.828571       23.221429   \n",
      "4  19104             NaN       23.285714       76.714286       14.852381   \n",
      "\n",
      "   S2201_C02_005E  S2201_C02_006E  S2201_C02_007E  S2201_C02_008E  \\\n",
      "0        3.330000        1.060000        2.260000       76.360000   \n",
      "1        3.330000        1.060000        2.260000       76.360000   \n",
      "2        3.335714        1.242857        2.085714       73.450000   \n",
      "3        3.335714        1.242857        2.085714       73.450000   \n",
      "4       20.861905        3.961905       16.904762       64.290476   \n",
      "\n",
      "   S2201_C02_009E  ...  n10_19  n20_49  n50_99  n100_249  n250_499  n500_999  \\\n",
      "0        4.040000  ...       4       N       N         N         N         N   \n",
      "1        4.040000  ...      14       3       N         N         N         N   \n",
      "2        5.578571  ...       7       6       3         4         N         N   \n",
      "3        5.578571  ...      25      19       7         4         N         N   \n",
      "4       20.838095  ...       6       4       N         N         N         N   \n",
      "\n",
      "   n1000          city  stabbr      cty_name  \n",
      "0      N  PHILADELPHIA      PA  PHILADELPHIA  \n",
      "1      N  PHILADELPHIA      PA  PHILADELPHIA  \n",
      "2      N  PHILADELPHIA      PA  PHILADELPHIA  \n",
      "3      N  PHILADELPHIA      PA  PHILADELPHIA  \n",
      "4      N  PHILADELPHIA      PA  PHILADELPHIA  \n",
      "\n",
      "[5 rows x 134 columns]\n"
     ]
    }
   ],
   "source": [
    "print(merged_df.head())"
   ]
  },
  {
   "cell_type": "code",
   "execution_count": 266,
   "id": "9ea20041-5a28-4c5f-9776-9a92a1770066",
   "metadata": {
    "tags": []
   },
   "outputs": [
    {
     "data": {
      "text/plain": [
       "Index(['zip', 'name', 'naics', 'est', 'n<5', 'n5_9', 'n10_19', 'n20_49',\n",
       "       'n50_99', 'n100_249', 'n250_499', 'n500_999', 'n1000', 'city', 'stabbr',\n",
       "       'cty_name'],\n",
       "      dtype='object')"
      ]
     },
     "execution_count": 266,
     "metadata": {},
     "output_type": "execute_result"
    }
   ],
   "source": [
    "nonProfitdata.columns"
   ]
  },
  {
   "cell_type": "code",
   "execution_count": 267,
   "id": "d50656d5-3d3f-4401-9620-19aa6a1cafc0",
   "metadata": {
    "tags": []
   },
   "outputs": [],
   "source": [
    "merged_df = merged_df.drop(columns = ['name', 'n<5', 'n5_9', 'n10_19', 'n20_49',\n",
    "       'n50_99', 'n100_249', 'n250_499', 'n500_999', 'n1000', 'city', 'stabbr',\n",
    "       'cty_name'])"
   ]
  },
  {
   "cell_type": "code",
   "execution_count": 268,
   "id": "17ba8ee6-9072-4308-9872-36afd4bbf5bf",
   "metadata": {
    "tags": []
   },
   "outputs": [
    {
     "data": {
      "text/html": [
       "<div>\n",
       "<style scoped>\n",
       "    .dataframe tbody tr th:only-of-type {\n",
       "        vertical-align: middle;\n",
       "    }\n",
       "\n",
       "    .dataframe tbody tr th {\n",
       "        vertical-align: top;\n",
       "    }\n",
       "\n",
       "    .dataframe thead th {\n",
       "        text-align: right;\n",
       "    }\n",
       "</style>\n",
       "<table border=\"1\" class=\"dataframe\">\n",
       "  <thead>\n",
       "    <tr style=\"text-align: right;\">\n",
       "      <th></th>\n",
       "      <th>zip</th>\n",
       "      <th>S2201_C02_001E</th>\n",
       "      <th>S2201_C02_002E</th>\n",
       "      <th>S2201_C02_003E</th>\n",
       "      <th>S2201_C02_004E</th>\n",
       "      <th>S2201_C02_005E</th>\n",
       "      <th>S2201_C02_006E</th>\n",
       "      <th>S2201_C02_007E</th>\n",
       "      <th>S2201_C02_008E</th>\n",
       "      <th>S2201_C02_009E</th>\n",
       "      <th>...</th>\n",
       "      <th>S2201_C06_035E</th>\n",
       "      <th>S2201_C06_036E</th>\n",
       "      <th>S2201_C06_037E</th>\n",
       "      <th>S2201_C06_038E</th>\n",
       "      <th>Unnamed: 458</th>\n",
       "      <th>RES_RATIO</th>\n",
       "      <th>BUS_RATIO</th>\n",
       "      <th>OTH_RATIO</th>\n",
       "      <th>naics</th>\n",
       "      <th>est</th>\n",
       "    </tr>\n",
       "  </thead>\n",
       "  <tbody>\n",
       "    <tr>\n",
       "      <th>0</th>\n",
       "      <td>19102</td>\n",
       "      <td>NaN</td>\n",
       "      <td>22.510000</td>\n",
       "      <td>77.490000</td>\n",
       "      <td>20.310000</td>\n",
       "      <td>3.330000</td>\n",
       "      <td>1.060000</td>\n",
       "      <td>2.260000</td>\n",
       "      <td>76.360000</td>\n",
       "      <td>4.040000</td>\n",
       "      <td>...</td>\n",
       "      <td>NaN</td>\n",
       "      <td>8.790000</td>\n",
       "      <td>19.170000</td>\n",
       "      <td>72.050000</td>\n",
       "      <td>NaN</td>\n",
       "      <td>0.100000</td>\n",
       "      <td>0.100000</td>\n",
       "      <td>0.100000</td>\n",
       "      <td>611///</td>\n",
       "      <td>20.0</td>\n",
       "    </tr>\n",
       "    <tr>\n",
       "      <th>1</th>\n",
       "      <td>19102</td>\n",
       "      <td>NaN</td>\n",
       "      <td>22.510000</td>\n",
       "      <td>77.490000</td>\n",
       "      <td>20.310000</td>\n",
       "      <td>3.330000</td>\n",
       "      <td>1.060000</td>\n",
       "      <td>2.260000</td>\n",
       "      <td>76.360000</td>\n",
       "      <td>4.040000</td>\n",
       "      <td>...</td>\n",
       "      <td>NaN</td>\n",
       "      <td>8.790000</td>\n",
       "      <td>19.170000</td>\n",
       "      <td>72.050000</td>\n",
       "      <td>NaN</td>\n",
       "      <td>0.100000</td>\n",
       "      <td>0.100000</td>\n",
       "      <td>0.100000</td>\n",
       "      <td>813///</td>\n",
       "      <td>79.0</td>\n",
       "    </tr>\n",
       "    <tr>\n",
       "      <th>2</th>\n",
       "      <td>19103</td>\n",
       "      <td>NaN</td>\n",
       "      <td>26.171429</td>\n",
       "      <td>73.828571</td>\n",
       "      <td>23.221429</td>\n",
       "      <td>3.335714</td>\n",
       "      <td>1.242857</td>\n",
       "      <td>2.085714</td>\n",
       "      <td>73.450000</td>\n",
       "      <td>5.578571</td>\n",
       "      <td>...</td>\n",
       "      <td>NaN</td>\n",
       "      <td>11.585714</td>\n",
       "      <td>23.014286</td>\n",
       "      <td>65.428571</td>\n",
       "      <td>NaN</td>\n",
       "      <td>0.071429</td>\n",
       "      <td>0.071429</td>\n",
       "      <td>0.071429</td>\n",
       "      <td>611///</td>\n",
       "      <td>45.0</td>\n",
       "    </tr>\n",
       "    <tr>\n",
       "      <th>3</th>\n",
       "      <td>19103</td>\n",
       "      <td>NaN</td>\n",
       "      <td>26.171429</td>\n",
       "      <td>73.828571</td>\n",
       "      <td>23.221429</td>\n",
       "      <td>3.335714</td>\n",
       "      <td>1.242857</td>\n",
       "      <td>2.085714</td>\n",
       "      <td>73.450000</td>\n",
       "      <td>5.578571</td>\n",
       "      <td>...</td>\n",
       "      <td>NaN</td>\n",
       "      <td>11.585714</td>\n",
       "      <td>23.014286</td>\n",
       "      <td>65.428571</td>\n",
       "      <td>NaN</td>\n",
       "      <td>0.071429</td>\n",
       "      <td>0.071429</td>\n",
       "      <td>0.071429</td>\n",
       "      <td>813///</td>\n",
       "      <td>158.0</td>\n",
       "    </tr>\n",
       "    <tr>\n",
       "      <th>4</th>\n",
       "      <td>19104</td>\n",
       "      <td>NaN</td>\n",
       "      <td>23.285714</td>\n",
       "      <td>76.714286</td>\n",
       "      <td>14.852381</td>\n",
       "      <td>20.861905</td>\n",
       "      <td>3.961905</td>\n",
       "      <td>16.904762</td>\n",
       "      <td>64.290476</td>\n",
       "      <td>20.838095</td>\n",
       "      <td>...</td>\n",
       "      <td>NaN</td>\n",
       "      <td>10.876190</td>\n",
       "      <td>39.757143</td>\n",
       "      <td>49.361905</td>\n",
       "      <td>NaN</td>\n",
       "      <td>0.041667</td>\n",
       "      <td>0.041667</td>\n",
       "      <td>0.041667</td>\n",
       "      <td>611///</td>\n",
       "      <td>32.0</td>\n",
       "    </tr>\n",
       "  </tbody>\n",
       "</table>\n",
       "<p>5 rows × 121 columns</p>\n",
       "</div>"
      ],
      "text/plain": [
       "     zip  S2201_C02_001E  S2201_C02_002E  S2201_C02_003E  S2201_C02_004E  \\\n",
       "0  19102             NaN       22.510000       77.490000       20.310000   \n",
       "1  19102             NaN       22.510000       77.490000       20.310000   \n",
       "2  19103             NaN       26.171429       73.828571       23.221429   \n",
       "3  19103             NaN       26.171429       73.828571       23.221429   \n",
       "4  19104             NaN       23.285714       76.714286       14.852381   \n",
       "\n",
       "   S2201_C02_005E  S2201_C02_006E  S2201_C02_007E  S2201_C02_008E  \\\n",
       "0        3.330000        1.060000        2.260000       76.360000   \n",
       "1        3.330000        1.060000        2.260000       76.360000   \n",
       "2        3.335714        1.242857        2.085714       73.450000   \n",
       "3        3.335714        1.242857        2.085714       73.450000   \n",
       "4       20.861905        3.961905       16.904762       64.290476   \n",
       "\n",
       "   S2201_C02_009E  ...  S2201_C06_035E  S2201_C06_036E  S2201_C06_037E  \\\n",
       "0        4.040000  ...             NaN        8.790000       19.170000   \n",
       "1        4.040000  ...             NaN        8.790000       19.170000   \n",
       "2        5.578571  ...             NaN       11.585714       23.014286   \n",
       "3        5.578571  ...             NaN       11.585714       23.014286   \n",
       "4       20.838095  ...             NaN       10.876190       39.757143   \n",
       "\n",
       "   S2201_C06_038E  Unnamed: 458  RES_RATIO  BUS_RATIO  OTH_RATIO   naics  \\\n",
       "0       72.050000           NaN   0.100000   0.100000   0.100000  611///   \n",
       "1       72.050000           NaN   0.100000   0.100000   0.100000  813///   \n",
       "2       65.428571           NaN   0.071429   0.071429   0.071429  611///   \n",
       "3       65.428571           NaN   0.071429   0.071429   0.071429  813///   \n",
       "4       49.361905           NaN   0.041667   0.041667   0.041667  611///   \n",
       "\n",
       "     est  \n",
       "0   20.0  \n",
       "1   79.0  \n",
       "2   45.0  \n",
       "3  158.0  \n",
       "4   32.0  \n",
       "\n",
       "[5 rows x 121 columns]"
      ]
     },
     "execution_count": 268,
     "metadata": {},
     "output_type": "execute_result"
    }
   ],
   "source": [
    "merged_df.head()"
   ]
  },
  {
   "cell_type": "code",
   "execution_count": 269,
   "id": "fded6ae4-5e4f-46d9-828d-e03fab216612",
   "metadata": {
    "tags": []
   },
   "outputs": [],
   "source": [
    "merged_df['zip'] = merged_df['zip'].astype(int)"
   ]
  },
  {
   "cell_type": "code",
   "execution_count": 270,
   "id": "0453351f-b5e9-4300-927d-6968ac6fb241",
   "metadata": {
    "tags": []
   },
   "outputs": [
    {
     "name": "stderr",
     "output_type": "stream",
     "text": [
      "/tmp/ipykernel_30081/1807019335.py:16: DeprecationWarning: DataFrameGroupBy.apply operated on the grouping columns. This behavior is deprecated, and in a future version of pandas the grouping columns will be excluded from the operation. Either pass `include_groups=False` to exclude the groupings or explicitly select the grouping columns after groupby to silence this warning.\n",
      "  result_df = merged_df.groupby('zip').apply(process_group).reset_index(drop=True)\n"
     ]
    }
   ],
   "source": [
    "def process_group(group):\n",
    "    group['naics'] = group['naics'].astype(str)\n",
    "    group['est'] = group['est'].astype(str)\n",
    "    if len(group) > 1:\n",
    "        # Assume rows are sorted or sort here if needed\n",
    "        # Adding 'naics' and 'est' from the second row to the first\n",
    "        group.iloc[0, group.columns.get_loc('naics')] += \" \" +  group.iloc[1, group.columns.get_loc('naics')]\n",
    "        group.iloc[0, group.columns.get_loc('est')] += \" \" + group.iloc[1, group.columns.get_loc('est')]\n",
    "        # Return only the first row\n",
    "        return group.iloc[:1]\n",
    "    else:\n",
    "        # Return the group as is if only one row\n",
    "        return group\n",
    "\n",
    "    \n",
    "result_df = merged_df.groupby('zip').apply(process_group).reset_index(drop=True)\n"
   ]
  },
  {
   "cell_type": "code",
   "execution_count": null,
   "id": "a03e941a-aa73-4d8d-9f9a-215334815155",
   "metadata": {
    "tags": []
   },
   "outputs": [],
   "source": []
  },
  {
   "cell_type": "code",
   "execution_count": 271,
   "id": "5f69a8aa-5cac-4e0d-8ea1-53b36d18c71a",
   "metadata": {
    "tags": []
   },
   "outputs": [
    {
     "name": "stdout",
     "output_type": "stream",
     "text": [
      "      zip  S2201_C02_001E  S2201_C02_002E  S2201_C02_003E  S2201_C02_004E  \\\n",
      "0   19102             NaN       22.510000       77.490000       20.310000   \n",
      "1   19103             NaN       26.171429       73.828571       23.221429   \n",
      "2   19104             NaN       23.285714       76.714286       14.852381   \n",
      "3   19106             NaN       26.636364       73.363636       26.727273   \n",
      "4   19107             NaN       21.125000       78.875000       23.412500   \n",
      "5   19109             NaN       10.100000       89.900000       15.100000   \n",
      "6   19111             NaN       39.936842       60.063158       39.478947   \n",
      "7   19112             NaN       32.066667       67.933333       34.600000   \n",
      "8   19113             NaN       32.500000       67.500000       36.400000   \n",
      "9   19114             NaN       45.400000       54.600000       40.891667   \n",
      "10  19115             NaN       46.383333       53.616667       51.183333   \n",
      "11  19116             NaN       50.533333       49.466667       52.233333   \n",
      "12  19118             NaN       44.745455       55.254545       52.854545   \n",
      "13  19119             NaN       39.575000       60.425000       41.458333   \n",
      "14  19120             NaN       42.394737       57.605263       27.963158   \n",
      "15  19121             NaN       34.800000       65.200000       11.861111   \n",
      "16  19122             NaN       32.025000       67.975000       18.441667   \n",
      "17  19123             NaN       22.230000       77.770000       23.960000   \n",
      "18  19124             NaN       36.114286       63.885714       27.019048   \n",
      "19  19125             NaN       25.831250       74.168750       22.781250   \n",
      "20  19126             NaN       45.500000       54.500000       27.433333   \n",
      "21  19127             NaN       20.440000       79.560000       30.200000   \n",
      "22  19128             NaN       31.626667       68.373333       40.986667   \n",
      "23  19129             NaN       37.180000       62.820000       30.950000   \n",
      "24  19130             NaN       25.471429       74.528571       25.500000   \n",
      "25  19131             NaN       40.942105       59.057895       20.352632   \n",
      "26  19132             NaN       45.625000       54.375000       13.687500   \n",
      "27  19133             NaN       39.046154       60.953846       19.700000   \n",
      "28  19134             NaN       31.638889       68.361111       20.922222   \n",
      "29  19135             NaN       32.136364       67.863636       30.854545   \n",
      "30  19136             NaN       32.572727       67.427273       43.500000   \n",
      "31  19137             NaN       36.944444       63.055556       26.266667   \n",
      "32  19138             NaN       44.800000       55.200000       19.207143   \n",
      "33  19139             NaN       32.964706       67.035294       17.029412   \n",
      "34  19140             NaN       45.069565       54.930435       19.134783   \n",
      "35  19141             NaN       45.550000       54.450000       17.566667   \n",
      "36  19142             NaN       32.366667       67.633333       22.155556   \n",
      "37  19143             NaN       32.695455       67.304545       19.786364   \n",
      "38  19144             NaN       38.195455       61.804545       25.218182   \n",
      "39  19145             NaN       34.160000       65.840000       30.413333   \n",
      "40  19146             NaN       24.689474       75.310526       28.115789   \n",
      "41  19147             NaN       29.229412       70.770588       34.482353   \n",
      "42  19148             NaN       36.100000       63.900000       37.078571   \n",
      "43  19149             NaN       35.968421       64.031579       35.684211   \n",
      "44  19150             NaN       47.728571       52.271429       32.635714   \n",
      "45  19151             NaN       36.790909       63.209091       21.763636   \n",
      "46  19152             NaN       41.260000       58.740000       49.320000   \n",
      "47  19153             NaN       31.980000       68.020000       23.080000   \n",
      "48  19154             NaN       45.611111       54.388889       48.400000   \n",
      "\n",
      "    S2201_C02_005E  S2201_C02_006E  S2201_C02_007E  S2201_C02_008E  \\\n",
      "0         3.330000        1.060000        2.260000       76.360000   \n",
      "1         3.335714        1.242857        2.085714       73.450000   \n",
      "2        20.861905        3.961905       16.904762       64.290476   \n",
      "3         4.300000        2.000000        2.290909       68.990909   \n",
      "4         4.375000        2.075000        2.300000       72.187500   \n",
      "5         0.200000        0.000000        0.200000       84.700000   \n",
      "6        28.252632        6.373684       21.884211       32.257895   \n",
      "7        11.333333        2.700000        8.633333       54.100000   \n",
      "8        15.000000        3.500000       11.500000       48.500000   \n",
      "9        17.941667        5.283333       12.691667       41.166667   \n",
      "10       13.950000        3.008333       10.916667       34.883333   \n",
      "11       14.311111        3.677778       10.622222       33.422222   \n",
      "12        9.172727        2.854545        6.336364       37.972727   \n",
      "13       17.891667        4.133333       13.766667       40.650000   \n",
      "14       39.110526        8.431579       30.705263       32.905263   \n",
      "15       34.177778        6.283333       27.900000       53.955556   \n",
      "16       24.916667        4.500000       20.408333       56.658333   \n",
      "17        9.920000        1.880000        8.040000       66.110000   \n",
      "18       39.919048       11.152381       28.776190       33.047619   \n",
      "19       26.237500        5.800000       20.437500       50.987500   \n",
      "20       31.966667        7.388889       24.588889       40.588889   \n",
      "21        7.560000        3.220000        4.320000       62.240000   \n",
      "22        9.146667        2.413333        6.726667       49.866667   \n",
      "23       16.180000        2.920000       13.260000       52.850000   \n",
      "24       13.514286        4.135714        9.385714       60.978571   \n",
      "25       31.347368        6.421053       24.931579       48.284211   \n",
      "26       36.062500        5.425000       30.631250       50.243750   \n",
      "27       42.353846        6.892308       35.438462       37.961538   \n",
      "28       40.088889        7.761111       32.327778       38.988889   \n",
      "29       34.145455        7.472727       26.672727       34.990909   \n",
      "30       24.709091        6.645455       18.045455       31.800000   \n",
      "31       33.266667        9.455556       23.800000       40.455556   \n",
      "32       37.900000        7.000000       30.907143       42.892857   \n",
      "33       34.317647        4.458824       29.858824       48.647059   \n",
      "34       40.956522        6.869565       34.095652       39.908696   \n",
      "35       36.325000        5.950000       30.383333       46.116667   \n",
      "36       35.822222        6.977778       28.866667       42.033333   \n",
      "37       31.400000        5.277273       26.131818       48.800000   \n",
      "38       25.154545        4.250000       20.913636       49.618182   \n",
      "39       20.533333        5.860000       14.666667       49.060000   \n",
      "40       12.815789        3.178947        9.652632       59.052632   \n",
      "41        8.882353        2.511765        6.370588       56.647059   \n",
      "42       19.628571        6.842857       12.778571       43.321429   \n",
      "43       34.521053        9.747368       24.789474       29.778947   \n",
      "44       25.014286        4.035714       20.964286       42.357143   \n",
      "45       36.972727        6.945455       30.036364       41.254545   \n",
      "46       16.000000        3.860000       12.110000       34.710000   \n",
      "47       30.380000        4.780000       25.620000       46.540000   \n",
      "48       19.644444        7.088889       12.566667       31.922222   \n",
      "\n",
      "    S2201_C02_009E  ...  S2201_C06_035E  S2201_C06_036E  S2201_C06_037E  \\\n",
      "0         4.040000  ...             NaN        8.790000       19.170000   \n",
      "1         5.578571  ...             NaN       11.585714       23.014286   \n",
      "2        20.838095  ...             NaN       10.876190       39.757143   \n",
      "3         6.927273  ...             NaN       12.509091       14.109091   \n",
      "4         5.812500  ...             NaN        9.187500       14.112500   \n",
      "5         1.000000  ...             NaN        7.100000        4.500000   \n",
      "6        38.636842  ...             NaN        9.947368       33.715789   \n",
      "7        18.000000  ...             NaN       15.966667       18.700000   \n",
      "8        18.600000  ...             NaN       21.800000       40.900000   \n",
      "9        26.133333  ...             NaN       12.441667       28.641667   \n",
      "10       32.841667  ...             NaN        9.150000       29.041667   \n",
      "11       24.800000  ...             NaN       10.977778       29.677778   \n",
      "12       31.627273  ...             NaN        9.336364       24.954545   \n",
      "13       32.958333  ...             NaN       11.025000       30.725000   \n",
      "14       39.342105  ...             NaN       10.115789       39.589474   \n",
      "15       27.494444  ...             NaN       16.694444       37.138889   \n",
      "16       20.650000  ...             NaN        5.841667       21.875000   \n",
      "17       10.990000  ...             NaN        6.520000       18.490000   \n",
      "18       40.471429  ...             NaN        9.409524       38.442857   \n",
      "19       23.731250  ...             NaN        7.475000       26.606250   \n",
      "20       30.700000  ...             NaN       13.900000       34.711111   \n",
      "21       11.000000  ...             NaN        8.500000       21.220000   \n",
      "22       20.626667  ...             NaN       10.580000       22.620000   \n",
      "23       23.320000  ...             NaN       14.070000       28.150000   \n",
      "24       15.650000  ...             NaN        8.521429       28.135714   \n",
      "25       24.978947  ...             NaN       14.373684       46.478947   \n",
      "26       22.825000  ...             NaN       21.018750       34.162500   \n",
      "27       33.115385  ...             NaN       17.853846       27.423077   \n",
      "28       37.144444  ...             NaN        8.872222       42.911111   \n",
      "29       40.736364  ...             NaN        6.481818       43.136364   \n",
      "30       40.972727  ...             NaN        9.672727       32.890909   \n",
      "31       32.777778  ...             NaN       10.700000       39.666667   \n",
      "32       30.892857  ...             NaN       15.735714       39.192857   \n",
      "33       30.176471  ...             NaN       13.300000       39.058824   \n",
      "34       33.160870  ...             NaN       17.130435       43.247826   \n",
      "35       28.550000  ...             NaN       19.983333       38.800000   \n",
      "36       34.700000  ...             NaN       12.577778       37.500000   \n",
      "37       27.654545  ...             NaN       11.918182       40.304545   \n",
      "38       29.790909  ...             NaN        9.690909       39.913636   \n",
      "39       22.600000  ...             NaN       11.000000       27.540000   \n",
      "40       17.821053  ...             NaN        5.563158       23.805263   \n",
      "41       17.652941  ...             NaN        9.605882       24.194118   \n",
      "42       26.357143  ...             NaN        9.264286       26.342857   \n",
      "43       42.673684  ...             NaN        5.726316       38.710526   \n",
      "44       26.250000  ...             NaN       14.114286       38.342857   \n",
      "45       33.554545  ...             NaN       13.472727       38.118182   \n",
      "46       37.840000  ...             NaN       10.210000       28.060000   \n",
      "47       28.200000  ...             NaN       10.780000       44.080000   \n",
      "48       33.000000  ...             NaN       11.300000       26.866667   \n",
      "\n",
      "    S2201_C06_038E  Unnamed: 458  RES_RATIO  BUS_RATIO  OTH_RATIO  \\\n",
      "0        72.050000           NaN   0.100000   0.100000   0.100000   \n",
      "1        65.428571           NaN   0.071429   0.071429   0.071429   \n",
      "2        49.361905           NaN   0.041667   0.041667   0.041667   \n",
      "3        73.372727           NaN   0.090909   0.090909   0.090909   \n",
      "4        76.700000           NaN   0.125000   0.125000   0.125000   \n",
      "5        88.400000           NaN   1.000000   1.000000   1.000000   \n",
      "6        56.315789           NaN   0.052632   0.052632   0.052632   \n",
      "7        65.366667           NaN   0.250000   0.250000   0.250000   \n",
      "8        37.300000           NaN   0.000000   1.000000   1.000000   \n",
      "9        58.925000           NaN   0.076923   0.076923   0.076923   \n",
      "10       61.775000           NaN   0.083333   0.083333   0.083333   \n",
      "11       59.311111           NaN   0.111111   0.111111   0.111111   \n",
      "12       65.690909           NaN   0.090909   0.090909   0.090909   \n",
      "13       58.216667           NaN   0.083333   0.083333   0.083333   \n",
      "14       50.326316           NaN   0.050000   0.050000   0.050000   \n",
      "15       46.144444           NaN   0.052632   0.052632   0.052632   \n",
      "16       72.266667           NaN   0.083333   0.083333   0.083333   \n",
      "17       75.000000           NaN   0.100000   0.100000   0.100000   \n",
      "18       52.157143           NaN   0.045455   0.045455   0.045455   \n",
      "19       65.918750           NaN   0.062500   0.062500   0.062500   \n",
      "20       51.400000           NaN   0.111111   0.111111   0.111111   \n",
      "21       70.300000           NaN   0.200000   0.200000   0.200000   \n",
      "22       66.806667           NaN   0.066667   0.066667   0.066667   \n",
      "23       57.760000           NaN   0.100000   0.100000   0.100000   \n",
      "24       63.357143           NaN   0.066667   0.066667   0.066667   \n",
      "25       39.157895           NaN   0.050000   0.050000   0.050000   \n",
      "26       44.806250           NaN   0.058824   0.058824   0.058824   \n",
      "27       54.723077           NaN   0.076923   0.076923   0.076923   \n",
      "28       48.222222           NaN   0.052632   0.052632   0.052632   \n",
      "29       50.390909           NaN   0.090909   0.090909   0.090909   \n",
      "30       57.436364           NaN   0.083333   0.083333   0.083333   \n",
      "31       49.655556           NaN   0.111111   0.111111   0.111111   \n",
      "32       45.078571           NaN   0.071429   0.071429   0.071429   \n",
      "33       47.647059           NaN   0.055556   0.055556   0.055556   \n",
      "34       39.621739           NaN   0.040000   0.040000   0.040000   \n",
      "35       41.200000           NaN   0.083333   0.083333   0.083333   \n",
      "36       49.911111           NaN   0.100000   0.100000   0.100000   \n",
      "37       47.772727           NaN   0.043478   0.043478   0.043478   \n",
      "38       50.377273           NaN   0.045455   0.045455   0.045455   \n",
      "39       61.473333           NaN   0.045455   0.045455   0.045455   \n",
      "40       70.631579           NaN   0.047619   0.047619   0.047619   \n",
      "41       66.211765           NaN   0.058824   0.058824   0.058824   \n",
      "42       64.407143           NaN   0.058824   0.058824   0.058824   \n",
      "43       55.552632           NaN   0.052632   0.052632   0.052632   \n",
      "44       47.535714           NaN   0.071429   0.071429   0.071429   \n",
      "45       48.409091           NaN   0.083333   0.083333   0.083333   \n",
      "46       61.720000           NaN   0.100000   0.100000   0.100000   \n",
      "47       45.140000           NaN   0.125000   0.125000   0.125000   \n",
      "48       61.833333           NaN   0.100000   0.100000   0.100000   \n",
      "\n",
      "    Educational  Religious  \n",
      "0          20.0       79.0  \n",
      "1          45.0      158.0  \n",
      "2          32.0       86.0  \n",
      "3          13.0       60.0  \n",
      "4          21.0       70.0  \n",
      "5           NaN        NaN  \n",
      "6           8.0       28.0  \n",
      "7           4.0        4.0  \n",
      "8           NaN        NaN  \n",
      "9           9.0       13.0  \n",
      "10         11.0       19.0  \n",
      "11         14.0       17.0  \n",
      "12         11.0       18.0  \n",
      "13         16.0       25.0  \n",
      "14          8.0       22.0  \n",
      "15         12.0       34.0  \n",
      "16         11.0       28.0  \n",
      "17         16.0       35.0  \n",
      "18         17.0       25.0  \n",
      "19         15.0       20.0  \n",
      "20          8.0       16.0  \n",
      "21          6.0        4.0  \n",
      "22          8.0       23.0  \n",
      "23          4.0       10.0  \n",
      "24         17.0       36.0  \n",
      "25         25.0       26.0  \n",
      "26          8.0       23.0  \n",
      "27          6.0        5.0  \n",
      "28          6.0       23.0  \n",
      "29          8.0       16.0  \n",
      "30          8.0       17.0  \n",
      "31          5.0        8.0  \n",
      "32         11.0       13.0  \n",
      "33          5.0       28.0  \n",
      "34         14.0       30.0  \n",
      "35          NaN        NaN  \n",
      "36          4.0       20.0  \n",
      "37         16.0       42.0  \n",
      "38         24.0       38.0  \n",
      "39         20.0       13.0  \n",
      "40         16.0       30.0  \n",
      "41         35.0       28.0  \n",
      "42          9.0       26.0  \n",
      "43         12.0       17.0  \n",
      "44          4.0       12.0  \n",
      "45          9.0       25.0  \n",
      "46          7.0       17.0  \n",
      "47          NaN        NaN  \n",
      "48         11.0       26.0  \n",
      "\n",
      "[49 rows x 121 columns]\n"
     ]
    }
   ],
   "source": [
    "def allocate_est(row):\n",
    "    est_values = row['est'].split(' ')\n",
    "    naics_parts = row['naics'].split(' ')\n",
    "    result = [None, None]  # Default [Educational, Religious]\n",
    "    \n",
    "    # Iterate through naics_parts and assign est_values accordingly\n",
    "    for index, code in enumerate(naics_parts):\n",
    "        if code == '611///' and index < len(est_values):\n",
    "            result[0] = float(est_values[index])  # Assign to Educational\n",
    "        elif code == '813///' and index < len(est_values):\n",
    "            result[1] = float(est_values[index])  # Assign to Religious\n",
    "\n",
    "    return pd.Series(result)\n",
    "\n",
    "result_df[['Educational', 'Religious']] = result_df.apply(allocate_est, axis=1)\n",
    "result_df.drop(['naics', 'est'], axis=1, inplace=True)\n",
    "print(result_df)\n",
    "\n"
   ]
  },
  {
   "cell_type": "code",
   "execution_count": 275,
   "id": "b71d3b58-9e94-4cf9-b724-7e45efb98c44",
   "metadata": {
    "tags": []
   },
   "outputs": [
    {
     "name": "stdout",
     "output_type": "stream",
     "text": [
      "False\n"
     ]
    },
    {
     "ename": "KeyError",
     "evalue": "\"['SS201_C04_014E'] not in index\"",
     "output_type": "error",
     "traceback": [
      "\u001b[0;31m---------------------------------------------------------------------------\u001b[0m",
      "\u001b[0;31mKeyError\u001b[0m                                  Traceback (most recent call last)",
      "Cell \u001b[0;32mIn[275], line 4\u001b[0m\n\u001b[1;32m      1\u001b[0m \u001b[38;5;28mprint\u001b[39m(\u001b[38;5;124m'\u001b[39m\u001b[38;5;124mSS201_C04_014E\u001b[39m\u001b[38;5;124m'\u001b[39m \u001b[38;5;129;01min\u001b[39;00m \u001b[38;5;28mlist\u001b[39m(result_df\u001b[38;5;241m.\u001b[39mcolumns))\n\u001b[1;32m      3\u001b[0m subset_columns \u001b[38;5;241m=\u001b[39m [\u001b[38;5;124m'\u001b[39m\u001b[38;5;124mSS201_C04_014E\u001b[39m\u001b[38;5;124m'\u001b[39m, \u001b[38;5;124m'\u001b[39m\u001b[38;5;124mS2201_C04_023E\u001b[39m\u001b[38;5;124m'\u001b[39m, \u001b[38;5;124m'\u001b[39m\u001b[38;5;124mS2201_C04_026E\u001b[39m\u001b[38;5;124m'\u001b[39m, \u001b[38;5;124m'\u001b[39m\u001b[38;5;124mS2201_C04_028E\u001b[39m\u001b[38;5;124m'\u001b[39m, \u001b[38;5;124m'\u001b[39m\u001b[38;5;124mS2201_C04_032E\u001b[39m\u001b[38;5;124m'\u001b[39m, \u001b[38;5;124m'\u001b[39m\u001b[38;5;124mS2201_C04_036E\u001b[39m\u001b[38;5;124m'\u001b[39m, \u001b[38;5;124m'\u001b[39m\u001b[38;5;124mzip\u001b[39m\u001b[38;5;124m'\u001b[39m, \u001b[38;5;124m'\u001b[39m\u001b[38;5;124mEducational\u001b[39m\u001b[38;5;124m'\u001b[39m, \u001b[38;5;124m'\u001b[39m\u001b[38;5;124mReligious\u001b[39m\u001b[38;5;124m'\u001b[39m, \u001b[38;5;124m'\u001b[39m\u001b[38;5;124mRES_RATIO\u001b[39m\u001b[38;5;124m'\u001b[39m, \u001b[38;5;124m'\u001b[39m\u001b[38;5;124mBUS_RATIO\u001b[39m\u001b[38;5;124m'\u001b[39m, \u001b[38;5;124m'\u001b[39m\u001b[38;5;124mOTH_RATIO\u001b[39m\u001b[38;5;124m'\u001b[39m]\n\u001b[0;32m----> 4\u001b[0m subset_data \u001b[38;5;241m=\u001b[39m \u001b[43mresult_df\u001b[49m\u001b[43m[\u001b[49m\u001b[43msubset_columns\u001b[49m\u001b[43m]\u001b[49m\n\u001b[1;32m      6\u001b[0m \u001b[38;5;66;03m# Save the subset to a CSV file\u001b[39;00m\n\u001b[1;32m      7\u001b[0m subset_data\u001b[38;5;241m.\u001b[39mto_csv(\u001b[38;5;124m'\u001b[39m\u001b[38;5;124mDemographics.csv\u001b[39m\u001b[38;5;124m'\u001b[39m, index\u001b[38;5;241m=\u001b[39m\u001b[38;5;28;01mFalse\u001b[39;00m)\n",
      "File \u001b[0;32m~/.local/lib/python3.10/site-packages/pandas/core/frame.py:4108\u001b[0m, in \u001b[0;36mDataFrame.__getitem__\u001b[0;34m(self, key)\u001b[0m\n\u001b[1;32m   4106\u001b[0m     \u001b[38;5;28;01mif\u001b[39;00m is_iterator(key):\n\u001b[1;32m   4107\u001b[0m         key \u001b[38;5;241m=\u001b[39m \u001b[38;5;28mlist\u001b[39m(key)\n\u001b[0;32m-> 4108\u001b[0m     indexer \u001b[38;5;241m=\u001b[39m \u001b[38;5;28;43mself\u001b[39;49m\u001b[38;5;241;43m.\u001b[39;49m\u001b[43mcolumns\u001b[49m\u001b[38;5;241;43m.\u001b[39;49m\u001b[43m_get_indexer_strict\u001b[49m\u001b[43m(\u001b[49m\u001b[43mkey\u001b[49m\u001b[43m,\u001b[49m\u001b[43m \u001b[49m\u001b[38;5;124;43m\"\u001b[39;49m\u001b[38;5;124;43mcolumns\u001b[39;49m\u001b[38;5;124;43m\"\u001b[39;49m\u001b[43m)\u001b[49m[\u001b[38;5;241m1\u001b[39m]\n\u001b[1;32m   4110\u001b[0m \u001b[38;5;66;03m# take() does not accept boolean indexers\u001b[39;00m\n\u001b[1;32m   4111\u001b[0m \u001b[38;5;28;01mif\u001b[39;00m \u001b[38;5;28mgetattr\u001b[39m(indexer, \u001b[38;5;124m\"\u001b[39m\u001b[38;5;124mdtype\u001b[39m\u001b[38;5;124m\"\u001b[39m, \u001b[38;5;28;01mNone\u001b[39;00m) \u001b[38;5;241m==\u001b[39m \u001b[38;5;28mbool\u001b[39m:\n",
      "File \u001b[0;32m~/.local/lib/python3.10/site-packages/pandas/core/indexes/base.py:6200\u001b[0m, in \u001b[0;36mIndex._get_indexer_strict\u001b[0;34m(self, key, axis_name)\u001b[0m\n\u001b[1;32m   6197\u001b[0m \u001b[38;5;28;01melse\u001b[39;00m:\n\u001b[1;32m   6198\u001b[0m     keyarr, indexer, new_indexer \u001b[38;5;241m=\u001b[39m \u001b[38;5;28mself\u001b[39m\u001b[38;5;241m.\u001b[39m_reindex_non_unique(keyarr)\n\u001b[0;32m-> 6200\u001b[0m \u001b[38;5;28;43mself\u001b[39;49m\u001b[38;5;241;43m.\u001b[39;49m\u001b[43m_raise_if_missing\u001b[49m\u001b[43m(\u001b[49m\u001b[43mkeyarr\u001b[49m\u001b[43m,\u001b[49m\u001b[43m \u001b[49m\u001b[43mindexer\u001b[49m\u001b[43m,\u001b[49m\u001b[43m \u001b[49m\u001b[43maxis_name\u001b[49m\u001b[43m)\u001b[49m\n\u001b[1;32m   6202\u001b[0m keyarr \u001b[38;5;241m=\u001b[39m \u001b[38;5;28mself\u001b[39m\u001b[38;5;241m.\u001b[39mtake(indexer)\n\u001b[1;32m   6203\u001b[0m \u001b[38;5;28;01mif\u001b[39;00m \u001b[38;5;28misinstance\u001b[39m(key, Index):\n\u001b[1;32m   6204\u001b[0m     \u001b[38;5;66;03m# GH 42790 - Preserve name from an Index\u001b[39;00m\n",
      "File \u001b[0;32m~/.local/lib/python3.10/site-packages/pandas/core/indexes/base.py:6252\u001b[0m, in \u001b[0;36mIndex._raise_if_missing\u001b[0;34m(self, key, indexer, axis_name)\u001b[0m\n\u001b[1;32m   6249\u001b[0m     \u001b[38;5;28;01mraise\u001b[39;00m \u001b[38;5;167;01mKeyError\u001b[39;00m(\u001b[38;5;124mf\u001b[39m\u001b[38;5;124m\"\u001b[39m\u001b[38;5;124mNone of [\u001b[39m\u001b[38;5;132;01m{\u001b[39;00mkey\u001b[38;5;132;01m}\u001b[39;00m\u001b[38;5;124m] are in the [\u001b[39m\u001b[38;5;132;01m{\u001b[39;00maxis_name\u001b[38;5;132;01m}\u001b[39;00m\u001b[38;5;124m]\u001b[39m\u001b[38;5;124m\"\u001b[39m)\n\u001b[1;32m   6251\u001b[0m not_found \u001b[38;5;241m=\u001b[39m \u001b[38;5;28mlist\u001b[39m(ensure_index(key)[missing_mask\u001b[38;5;241m.\u001b[39mnonzero()[\u001b[38;5;241m0\u001b[39m]]\u001b[38;5;241m.\u001b[39munique())\n\u001b[0;32m-> 6252\u001b[0m \u001b[38;5;28;01mraise\u001b[39;00m \u001b[38;5;167;01mKeyError\u001b[39;00m(\u001b[38;5;124mf\u001b[39m\u001b[38;5;124m\"\u001b[39m\u001b[38;5;132;01m{\u001b[39;00mnot_found\u001b[38;5;132;01m}\u001b[39;00m\u001b[38;5;124m not in index\u001b[39m\u001b[38;5;124m\"\u001b[39m)\n",
      "\u001b[0;31mKeyError\u001b[0m: \"['SS201_C04_014E'] not in index\""
     ]
    }
   ],
   "source": [
    "column_mapping = {\n",
    "    'S2201_C04_014E': 'Percent households with children under 18 years receiving food stamps',\n",
    "    'S2201_C04_023E': 'Percent households with one or more people with a disability receiving food stamps',\n",
    "    'S2201_C04_026E': 'Percent households with only black/american receiving food stamps',\n",
    "    'S2201_C04_028E': 'Percent households with only asians receiving food stamps',\n",
    "    'S2201_C04_032E': 'Percent households with only hispanic/latinos receiving food stamps',\n",
    "    'S2201_C04_036E': 'Total percent of households with no workers receiving food stamps',\n",
    "    'S2201_C04_002E': 'One or More People in the Household over 60 receiving Food Stamps',\n",
    "    'S2201_C04_006E': 'Percent male householder, no spouse present (SNAP)',\n",
    "    'S2201_C04_007E': 'Percent female householder, no spouse present (SNAP)',\n",
    "    'S2201_C04_036E': 'Percent households with no working member receiving food stamps'\n",
    "    'S2201_C04_037E': 'Percent households with only one working member receiving food stamps',\n",
    "    'S2201_C04_038E': 'Percent households with two or more working members receiving food stamps',\n",
    "    'zip': 'zip', 'Educational': 'Educational', 'Religious': 'Religious', 'RES_RATIO': 'RES_RATIO', 'BUS_RATIO': 'BUS_RATIO', 'OTH_RATIO': 'OTH_RATIO'\n",
    "}\n",
    "\n",
    "subset_columns = ['S2201_C04_014E', 'S2201_C04_023E', 'S2201_C04_026E', 'S2201_C04_028E', 'S2201_C04_032E', 'zip', 'Educational', 'Religious', 'RES_RATIO', 'BUS_RATIO', 'OTH_RATIO']\n",
    "subset_data = result_df[subset_columns]\n",
    "\n",
    "# Save the subset to a CSV file\n",
    "subset_data.to_csv('Demographics.csv', index=False)\n"
   ]
  },
  {
   "cell_type": "code",
   "execution_count": null,
   "id": "f174e766-eb8c-4593-b86e-c0a146799dc4",
   "metadata": {
    "tags": []
   },
   "outputs": [],
   "source": [
    "subset_columns = ['S2201_C04_002E', 'S2201_C04_006E', 'S2201_C04_007E', 'S2201_C04_036E', 'S2201_C04_037E', 'S2201_C04_038E', 'zip', 'Educational', 'Religious', 'RES_RATIO', 'BUS_RATIO', 'OTH_RATIO']\n",
    "subset_data = result_df[subset_columns]\n",
    "\n",
    "# Save the subset to a CSV file\n",
    "subset_data.to_csv('Food_Insecurity.csv', index=False)\n"
   ]
  },
  {
   "cell_type": "code",
   "execution_count": null,
   "id": "b5539def-64e0-4e58-b668-188398c3dbbd",
   "metadata": {},
   "outputs": [],
   "source": []
  },
  {
   "cell_type": "code",
   "execution_count": null,
   "id": "c17f170d-5a65-498d-b011-b20bcffc3853",
   "metadata": {},
   "outputs": [],
   "source": []
  }
 ],
 "metadata": {
  "kernelspec": {
   "display_name": "Python 3 (ipykernel)",
   "language": "python",
   "name": "python3"
  },
  "language_info": {
   "codemirror_mode": {
    "name": "ipython",
    "version": 3
   },
   "file_extension": ".py",
   "mimetype": "text/x-python",
   "name": "python",
   "nbconvert_exporter": "python",
   "pygments_lexer": "ipython3",
   "version": "3.10.10"
  }
 },
 "nbformat": 4,
 "nbformat_minor": 5
}
